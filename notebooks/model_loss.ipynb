{
 "cells": [
  {
   "cell_type": "code",
   "execution_count": 16,
   "metadata": {},
   "outputs": [],
   "source": [
    "import sys\n",
    "sys.path.append('..')\n",
    "from utils import load_iterable_dataset\n",
    "from transformer_lens import HookedTransformer\n",
    "import torch as t\n",
    "from tqdm import tqdm"
   ]
  },
  {
   "cell_type": "code",
   "execution_count": 73,
   "metadata": {},
   "outputs": [],
   "source": [
    "DTYPE = t.bfloat16\n",
    "MODEL_NAME = \"roneneldan/TinyStories-33M\"\n",
    "ctx_len = 128\n",
    "n_batches = 10\n",
    "batch_size = 256"
   ]
  },
  {
   "cell_type": "code",
   "execution_count": 67,
   "metadata": {},
   "outputs": [],
   "source": [
    "data = load_iterable_dataset('roneneldan/TinyStories')"
   ]
  },
  {
   "cell_type": "code",
   "execution_count": 68,
   "metadata": {},
   "outputs": [
    {
     "name": "stderr",
     "output_type": "stream",
     "text": [
      "WARNING:root:With reduced precision, it is advised to use `from_pretrained_no_processing` instead of `from_pretrained`.\n"
     ]
    },
    {
     "name": "stdout",
     "output_type": "stream",
     "text": [
      "Loaded pretrained model roneneldan/TinyStories-33M into HookedTransformer\n"
     ]
    }
   ],
   "source": [
    "model = HookedTransformer.from_pretrained(MODEL_NAME, device='cuda', dtype=DTYPE)"
   ]
  },
  {
   "cell_type": "code",
   "execution_count": null,
   "metadata": {},
   "outputs": [
    {
     "name": "stdout",
     "output_type": "stream",
     "text": [
      "Skipping short text: 123\n",
      "Skipping short text: 114\n",
      "Skipping short text: 119\n",
      "Skipping short text: 116\n",
      "Skipping short text: 110\n",
      "Skipping short text: 127\n",
      "Skipping short text: 116\n",
      "Skipping short text: 113\n",
      "Skipping short text: 98\n",
      "Skipping short text: 127\n",
      "Skipping short text: 107\n",
      "Skipping short text: 123\n",
      "Skipping short text: 108\n",
      "Skipping short text: 99\n",
      "Skipping short text: 75\n",
      "Skipping short text: 123\n",
      "Skipping short text: 73\n",
      "Skipping short text: 113\n",
      "Skipping short text: 115\n",
      "Skipping short text: 120\n",
      "Skipping short text: 111\n",
      "Skipping short text: 100\n",
      "Skipping short text: 122\n",
      "Skipping short text: 127\n",
      "Skipping short text: 126\n",
      "Skipping short text: 125\n",
      "Skipping short text: 83\n",
      "Skipping short text: 89\n",
      "Skipping short text: 116\n",
      "Skipping short text: 117\n",
      "Skipping short text: 107\n",
      "Skipping short text: 119\n",
      "Skipping short text: 121\n",
      "Skipping short text: 118\n",
      "Skipping short text: 93\n",
      "Skipping short text: 127\n",
      "Skipping short text: 119\n",
      "Skipping short text: 102\n",
      "Skipping short text: 117\n",
      "Skipping short text: 82\n",
      "Skipping short text: 109\n",
      "Skipping short text: 91\n",
      "Skipping short text: 124\n",
      "Skipping short text: 122\n",
      "Skipping short text: 115\n",
      "Skipping short text: 100\n",
      "Skipping short text: 113\n",
      "Skipping short text: 89\n",
      "Skipping short text: 124\n",
      "Skipping short text: 122\n",
      "Skipping short text: 109\n",
      "Skipping short text: 83\n",
      "Skipping short text: 121\n",
      "Skipping short text: 105\n",
      "Skipping short text: 54\n",
      "Skipping short text: 70\n",
      "Skipping short text: 115\n",
      "Skipping short text: 119\n",
      "Skipping short text: 124\n",
      "Skipping short text: 121\n",
      "Skipping short text: 126\n",
      "Skipping short text: 111\n",
      "Skipping short text: 125\n",
      "Skipping short text: 89\n",
      "Skipping short text: 123\n",
      "Skipping short text: 117\n",
      "Skipping short text: 93\n",
      "Skipping short text: 104\n",
      "Skipping short text: 118\n",
      "Skipping short text: 115\n",
      "Skipping short text: 124\n",
      "Skipping short text: 127\n",
      "Skipping short text: 124\n",
      "Skipping short text: 118\n",
      "Skipping short text: 127\n"
     ]
    }
   ],
   "source": [
    "losses = []\n",
    "for i in range(n_batches):\n",
    "    batch = []\n",
    "    for _ in range(batch_size):\n",
    "        found=False\n",
    "        while not found:\n",
    "            text = next(data)\n",
    "            tokens = model.to_tokens([text], prepend_bos=True)\n",
    "            if tokens.shape[1] >= ctx_len:\n",
    "                batch.append(text)\n",
    "                found=True\n",
    "\n",
    "    tokens = model.to_tokens(batch, prepend_bos=False)[:, :ctx_len]\n",
    "  \n",
    "    with t.no_grad():\n",
    "        loss = model(\n",
    "            tokens, \n",
    "            return_type=\"loss\",\n",
    "            loss_per_token=True\n",
    "        )\n",
    "    losses.append(loss)"
   ]
  },
  {
   "cell_type": "code",
   "execution_count": 75,
   "metadata": {},
   "outputs": [],
   "source": [
    "all_losses = t.cat(losses)\n",
    "loss_per_token_nobos = all_losses.mean(dim=0)\n"
   ]
  },
  {
   "cell_type": "code",
   "execution_count": 76,
   "metadata": {},
   "outputs": [
    {
     "data": {
      "text/plain": [
       "<matplotlib.legend.Legend at 0x796c6139db10>"
      ]
     },
     "execution_count": 76,
     "metadata": {},
     "output_type": "execute_result"
    },
    {
     "data": {
      "image/png": "[encoded data removed]",
      "text/plain": [
       "<Figure size 640x480 with 1 Axes>"
      ]
     },
     "metadata": {},
     "output_type": "display_data"
    }
   ],
   "source": [
    "import matplotlib.pyplot as plt\n",
    "plt.plot(loss_per_token_bos.float().cpu().numpy())\n",
    "plt.plot(loss_per_token_nobos.float().cpu().numpy())\n",
    "# axis labels\n",
    "plt.xlabel('Token Position')\n",
    "plt.ylabel('Avg CE Loss')\n",
    "# legend\n",
    "plt.legend(['BOS', 'no BOS'])"
   ]
  },
  {
   "cell_type": "code",
   "execution_count": 79,
   "metadata": {},
   "outputs": [
    {
     "data": {
      "text/plain": [
       "tensor(1.2266, device='cuda:0', dtype=torch.bfloat16)"
      ]
     },
     "execution_count": 79,
     "metadata": {},
     "output_type": "execute_result"
    }
   ],
   "source": [
    "loss_per_token_nobos[:128].mean()"
   ]
  }
 ],
 "metadata": {
  "kernelspec": {
   "display_name": "Python 3",
   "language": "python",
   "name": "python3"
  },
  "language_info": {
   "codemirror_mode": {
    "name": "ipython",
    "version": 3
   },
   "file_extension": ".py",
   "mimetype": "text/x-python",
   "name": "python",
   "nbconvert_exporter": "python",
   "pygments_lexer": "ipython3",
   "version": "3.11.10"
  }
 },
 "nbformat": 4,
 "nbformat_minor": 2
}
